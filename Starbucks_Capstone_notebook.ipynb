{
 "cells": [
  {
   "cell_type": "markdown",
   "metadata": {},
   "source": [
    "# Data Analysis"
   ]
  },
  {
   "cell_type": "markdown",
   "metadata": {},
   "source": [
    "## Dataframes Overview"
   ]
  },
  {
   "cell_type": "code",
   "execution_count": 286,
   "metadata": {},
   "outputs": [],
   "source": [
    "# import libraries\n",
    "import pandas as pd\n",
    "import numpy as np\n",
    "import math\n",
    "import json\n",
    "import matplotlib.pyplot as plt\n",
    "import seaborn as sns\n",
    "%matplotlib inline"
   ]
  },
  {
   "cell_type": "code",
   "execution_count": 287,
   "metadata": {},
   "outputs": [],
   "source": [
    "# read in the json files\n",
    "portfolio = pd.read_json('data/portfolio.json', orient='records', lines=True)\n",
    "profile = pd.read_json('data/profile.json', orient='records', lines=True)\n",
    "transcript = pd.read_json('data/transcript.json', orient='records', lines=True)"
   ]
  },
  {
   "cell_type": "markdown",
   "metadata": {},
   "source": [
    "### Portfolio Dataframe"
   ]
  },
  {
   "cell_type": "markdown",
   "metadata": {},
   "source": [
    "The dataframe has 10 rows, each corresponding to a different offer. Each offer has a unique id and includes:\n",
    "* 3 offer types:\n",
    "  * BOGO (buy one, get one)\n",
    "  * Discount\n",
    "  * Informational\n",
    "* 4 channels:\n",
    "  * web\n",
    "  * email\n",
    "  * mobile\n",
    "  * social\n",
    "\n",
    "The third column (**difficulty**) represents the amount a person has to spend to complete the offer. Once the offer is completed, the person receives the amount specified in the first column (**reward**).\n",
    "\n",
    "The data in these two columms is consistent with the offer type:\n",
    "* For bogo offers, the difficulty and reward are the same.\n",
    "* for discount offers, the difficulty amount is higher that the reward.\n",
    "* For informational offers, there is no value in either difficulty or reward columns.\n",
    "\n",
    "The fourth column (**duration**) is the time available for a person to complete the offer. For informational offers, this duration indicates how long the customer is assumed to feel the influence of the offer."
   ]
  },
  {
   "cell_type": "code",
   "execution_count": 288,
   "metadata": {},
   "outputs": [
    {
     "name": "stdout",
     "output_type": "stream",
     "text": [
      "The portfolio dataframe has:\n",
      "10 rows\n",
      "6 columns\n"
     ]
    }
   ],
   "source": [
    "print('The portfolio dataframe has:\\n{} rows\\n{} columns'.format(portfolio.shape[0], portfolio.shape[1]))"
   ]
  },
  {
   "cell_type": "code",
   "execution_count": 289,
   "metadata": {},
   "outputs": [
    {
     "data": {
      "text/html": [
       "<div>\n",
       "<style scoped>\n",
       "    .dataframe tbody tr th:only-of-type {\n",
       "        vertical-align: middle;\n",
       "    }\n",
       "\n",
       "    .dataframe tbody tr th {\n",
       "        vertical-align: top;\n",
       "    }\n",
       "\n",
       "    .dataframe thead th {\n",
       "        text-align: right;\n",
       "    }\n",
       "</style>\n",
       "<table border=\"1\" class=\"dataframe\">\n",
       "  <thead>\n",
       "    <tr style=\"text-align: right;\">\n",
       "      <th></th>\n",
       "      <th>reward</th>\n",
       "      <th>channels</th>\n",
       "      <th>difficulty</th>\n",
       "      <th>duration</th>\n",
       "      <th>offer_type</th>\n",
       "      <th>id</th>\n",
       "    </tr>\n",
       "  </thead>\n",
       "  <tbody>\n",
       "    <tr>\n",
       "      <th>0</th>\n",
       "      <td>10</td>\n",
       "      <td>[email, mobile, social]</td>\n",
       "      <td>10</td>\n",
       "      <td>7</td>\n",
       "      <td>bogo</td>\n",
       "      <td>ae264e3637204a6fb9bb56bc8210ddfd</td>\n",
       "    </tr>\n",
       "    <tr>\n",
       "      <th>1</th>\n",
       "      <td>10</td>\n",
       "      <td>[web, email, mobile, social]</td>\n",
       "      <td>10</td>\n",
       "      <td>5</td>\n",
       "      <td>bogo</td>\n",
       "      <td>4d5c57ea9a6940dd891ad53e9dbe8da0</td>\n",
       "    </tr>\n",
       "    <tr>\n",
       "      <th>2</th>\n",
       "      <td>0</td>\n",
       "      <td>[web, email, mobile]</td>\n",
       "      <td>0</td>\n",
       "      <td>4</td>\n",
       "      <td>informational</td>\n",
       "      <td>3f207df678b143eea3cee63160fa8bed</td>\n",
       "    </tr>\n",
       "    <tr>\n",
       "      <th>3</th>\n",
       "      <td>5</td>\n",
       "      <td>[web, email, mobile]</td>\n",
       "      <td>5</td>\n",
       "      <td>7</td>\n",
       "      <td>bogo</td>\n",
       "      <td>9b98b8c7a33c4b65b9aebfe6a799e6d9</td>\n",
       "    </tr>\n",
       "    <tr>\n",
       "      <th>4</th>\n",
       "      <td>5</td>\n",
       "      <td>[web, email]</td>\n",
       "      <td>20</td>\n",
       "      <td>10</td>\n",
       "      <td>discount</td>\n",
       "      <td>0b1e1539f2cc45b7b9fa7c272da2e1d7</td>\n",
       "    </tr>\n",
       "    <tr>\n",
       "      <th>5</th>\n",
       "      <td>3</td>\n",
       "      <td>[web, email, mobile, social]</td>\n",
       "      <td>7</td>\n",
       "      <td>7</td>\n",
       "      <td>discount</td>\n",
       "      <td>2298d6c36e964ae4a3e7e9706d1fb8c2</td>\n",
       "    </tr>\n",
       "    <tr>\n",
       "      <th>6</th>\n",
       "      <td>2</td>\n",
       "      <td>[web, email, mobile, social]</td>\n",
       "      <td>10</td>\n",
       "      <td>10</td>\n",
       "      <td>discount</td>\n",
       "      <td>fafdcd668e3743c1bb461111dcafc2a4</td>\n",
       "    </tr>\n",
       "    <tr>\n",
       "      <th>7</th>\n",
       "      <td>0</td>\n",
       "      <td>[email, mobile, social]</td>\n",
       "      <td>0</td>\n",
       "      <td>3</td>\n",
       "      <td>informational</td>\n",
       "      <td>5a8bc65990b245e5a138643cd4eb9837</td>\n",
       "    </tr>\n",
       "    <tr>\n",
       "      <th>8</th>\n",
       "      <td>5</td>\n",
       "      <td>[web, email, mobile, social]</td>\n",
       "      <td>5</td>\n",
       "      <td>5</td>\n",
       "      <td>bogo</td>\n",
       "      <td>f19421c1d4aa40978ebb69ca19b0e20d</td>\n",
       "    </tr>\n",
       "    <tr>\n",
       "      <th>9</th>\n",
       "      <td>2</td>\n",
       "      <td>[web, email, mobile]</td>\n",
       "      <td>10</td>\n",
       "      <td>7</td>\n",
       "      <td>discount</td>\n",
       "      <td>2906b810c7d4411798c6938adc9daaa5</td>\n",
       "    </tr>\n",
       "  </tbody>\n",
       "</table>\n",
       "</div>"
      ],
      "text/plain": [
       "   reward                      channels  difficulty  duration     offer_type  \\\n",
       "0      10       [email, mobile, social]          10         7           bogo   \n",
       "1      10  [web, email, mobile, social]          10         5           bogo   \n",
       "2       0          [web, email, mobile]           0         4  informational   \n",
       "3       5          [web, email, mobile]           5         7           bogo   \n",
       "4       5                  [web, email]          20        10       discount   \n",
       "5       3  [web, email, mobile, social]           7         7       discount   \n",
       "6       2  [web, email, mobile, social]          10        10       discount   \n",
       "7       0       [email, mobile, social]           0         3  informational   \n",
       "8       5  [web, email, mobile, social]           5         5           bogo   \n",
       "9       2          [web, email, mobile]          10         7       discount   \n",
       "\n",
       "                                 id  \n",
       "0  ae264e3637204a6fb9bb56bc8210ddfd  \n",
       "1  4d5c57ea9a6940dd891ad53e9dbe8da0  \n",
       "2  3f207df678b143eea3cee63160fa8bed  \n",
       "3  9b98b8c7a33c4b65b9aebfe6a799e6d9  \n",
       "4  0b1e1539f2cc45b7b9fa7c272da2e1d7  \n",
       "5  2298d6c36e964ae4a3e7e9706d1fb8c2  \n",
       "6  fafdcd668e3743c1bb461111dcafc2a4  \n",
       "7  5a8bc65990b245e5a138643cd4eb9837  \n",
       "8  f19421c1d4aa40978ebb69ca19b0e20d  \n",
       "9  2906b810c7d4411798c6938adc9daaa5  "
      ]
     },
     "execution_count": 289,
     "metadata": {},
     "output_type": "execute_result"
    }
   ],
   "source": [
    "portfolio"
   ]
  },
  {
   "cell_type": "code",
   "execution_count": 290,
   "metadata": {},
   "outputs": [],
   "source": [
    "# Create a new dataframe with the deatils of each offer\n",
    "pf_details = portfolio[['id', 'offer_type', 'reward', 'difficulty', 'duration']].apply(\n",
    "    lambda row: {\n",
    "        'offer_type': row['offer_type'],\n",
    "        'reward': row['reward'],\n",
    "        'difficulty': row['difficulty'],\n",
    "        'duration': row['duration'] * 24 # transform days to hours to match time column\n",
    "    }, axis=1)\n",
    "\n",
    "portfolio_details = pd.DataFrame({\n",
    "    'id': portfolio['id'],\n",
    "    'details': pf_details\n",
    "})"
   ]
  },
  {
   "cell_type": "code",
   "execution_count": 291,
   "metadata": {},
   "outputs": [
    {
     "data": {
      "text/html": [
       "<div>\n",
       "<style scoped>\n",
       "    .dataframe tbody tr th:only-of-type {\n",
       "        vertical-align: middle;\n",
       "    }\n",
       "\n",
       "    .dataframe tbody tr th {\n",
       "        vertical-align: top;\n",
       "    }\n",
       "\n",
       "    .dataframe thead th {\n",
       "        text-align: right;\n",
       "    }\n",
       "</style>\n",
       "<table border=\"1\" class=\"dataframe\">\n",
       "  <thead>\n",
       "    <tr style=\"text-align: right;\">\n",
       "      <th></th>\n",
       "      <th>id</th>\n",
       "      <th>details</th>\n",
       "    </tr>\n",
       "  </thead>\n",
       "  <tbody>\n",
       "    <tr>\n",
       "      <th>0</th>\n",
       "      <td>ae264e3637204a6fb9bb56bc8210ddfd</td>\n",
       "      <td>{'offer_type': 'bogo', 'reward': 10, 'difficul...</td>\n",
       "    </tr>\n",
       "    <tr>\n",
       "      <th>1</th>\n",
       "      <td>4d5c57ea9a6940dd891ad53e9dbe8da0</td>\n",
       "      <td>{'offer_type': 'bogo', 'reward': 10, 'difficul...</td>\n",
       "    </tr>\n",
       "    <tr>\n",
       "      <th>2</th>\n",
       "      <td>3f207df678b143eea3cee63160fa8bed</td>\n",
       "      <td>{'offer_type': 'informational', 'reward': 0, '...</td>\n",
       "    </tr>\n",
       "    <tr>\n",
       "      <th>3</th>\n",
       "      <td>9b98b8c7a33c4b65b9aebfe6a799e6d9</td>\n",
       "      <td>{'offer_type': 'bogo', 'reward': 5, 'difficult...</td>\n",
       "    </tr>\n",
       "    <tr>\n",
       "      <th>4</th>\n",
       "      <td>0b1e1539f2cc45b7b9fa7c272da2e1d7</td>\n",
       "      <td>{'offer_type': 'discount', 'reward': 5, 'diffi...</td>\n",
       "    </tr>\n",
       "    <tr>\n",
       "      <th>5</th>\n",
       "      <td>2298d6c36e964ae4a3e7e9706d1fb8c2</td>\n",
       "      <td>{'offer_type': 'discount', 'reward': 3, 'diffi...</td>\n",
       "    </tr>\n",
       "    <tr>\n",
       "      <th>6</th>\n",
       "      <td>fafdcd668e3743c1bb461111dcafc2a4</td>\n",
       "      <td>{'offer_type': 'discount', 'reward': 2, 'diffi...</td>\n",
       "    </tr>\n",
       "    <tr>\n",
       "      <th>7</th>\n",
       "      <td>5a8bc65990b245e5a138643cd4eb9837</td>\n",
       "      <td>{'offer_type': 'informational', 'reward': 0, '...</td>\n",
       "    </tr>\n",
       "    <tr>\n",
       "      <th>8</th>\n",
       "      <td>f19421c1d4aa40978ebb69ca19b0e20d</td>\n",
       "      <td>{'offer_type': 'bogo', 'reward': 5, 'difficult...</td>\n",
       "    </tr>\n",
       "    <tr>\n",
       "      <th>9</th>\n",
       "      <td>2906b810c7d4411798c6938adc9daaa5</td>\n",
       "      <td>{'offer_type': 'discount', 'reward': 2, 'diffi...</td>\n",
       "    </tr>\n",
       "  </tbody>\n",
       "</table>\n",
       "</div>"
      ],
      "text/plain": [
       "                                 id  \\\n",
       "0  ae264e3637204a6fb9bb56bc8210ddfd   \n",
       "1  4d5c57ea9a6940dd891ad53e9dbe8da0   \n",
       "2  3f207df678b143eea3cee63160fa8bed   \n",
       "3  9b98b8c7a33c4b65b9aebfe6a799e6d9   \n",
       "4  0b1e1539f2cc45b7b9fa7c272da2e1d7   \n",
       "5  2298d6c36e964ae4a3e7e9706d1fb8c2   \n",
       "6  fafdcd668e3743c1bb461111dcafc2a4   \n",
       "7  5a8bc65990b245e5a138643cd4eb9837   \n",
       "8  f19421c1d4aa40978ebb69ca19b0e20d   \n",
       "9  2906b810c7d4411798c6938adc9daaa5   \n",
       "\n",
       "                                             details  \n",
       "0  {'offer_type': 'bogo', 'reward': 10, 'difficul...  \n",
       "1  {'offer_type': 'bogo', 'reward': 10, 'difficul...  \n",
       "2  {'offer_type': 'informational', 'reward': 0, '...  \n",
       "3  {'offer_type': 'bogo', 'reward': 5, 'difficult...  \n",
       "4  {'offer_type': 'discount', 'reward': 5, 'diffi...  \n",
       "5  {'offer_type': 'discount', 'reward': 3, 'diffi...  \n",
       "6  {'offer_type': 'discount', 'reward': 2, 'diffi...  \n",
       "7  {'offer_type': 'informational', 'reward': 0, '...  \n",
       "8  {'offer_type': 'bogo', 'reward': 5, 'difficult...  \n",
       "9  {'offer_type': 'discount', 'reward': 2, 'diffi...  "
      ]
     },
     "execution_count": 291,
     "metadata": {},
     "output_type": "execute_result"
    }
   ],
   "source": [
    "portfolio_details"
   ]
  },
  {
   "cell_type": "markdown",
   "metadata": {},
   "source": [
    "### Profile Dataframe"
   ]
  },
  {
   "cell_type": "markdown",
   "metadata": {},
   "source": [
    "The columns of this dataframe represent:\n",
    "* gender: (str) M for masculine, F for femenine, O for other, or null\n",
    "* age: (int) missing value encoded as 118\n",
    "* id: (str/hash)\n",
    "* became_member_on: (int) date format YYYYMMDD\n",
    "* income: (float)"
   ]
  },
  {
   "cell_type": "code",
   "execution_count": 292,
   "metadata": {},
   "outputs": [
    {
     "name": "stdout",
     "output_type": "stream",
     "text": [
      "The profile dataframe has:\n",
      "17000 rows\n",
      "5 columns\n"
     ]
    }
   ],
   "source": [
    "print('The profile dataframe has:\\n{} rows\\n{} columns'.format(profile.shape[0], profile.shape[1]))"
   ]
  },
  {
   "cell_type": "code",
   "execution_count": 293,
   "metadata": {},
   "outputs": [
    {
     "data": {
      "text/html": [
       "<div>\n",
       "<style scoped>\n",
       "    .dataframe tbody tr th:only-of-type {\n",
       "        vertical-align: middle;\n",
       "    }\n",
       "\n",
       "    .dataframe tbody tr th {\n",
       "        vertical-align: top;\n",
       "    }\n",
       "\n",
       "    .dataframe thead th {\n",
       "        text-align: right;\n",
       "    }\n",
       "</style>\n",
       "<table border=\"1\" class=\"dataframe\">\n",
       "  <thead>\n",
       "    <tr style=\"text-align: right;\">\n",
       "      <th></th>\n",
       "      <th>gender</th>\n",
       "      <th>age</th>\n",
       "      <th>id</th>\n",
       "      <th>became_member_on</th>\n",
       "      <th>income</th>\n",
       "    </tr>\n",
       "  </thead>\n",
       "  <tbody>\n",
       "    <tr>\n",
       "      <th>0</th>\n",
       "      <td>None</td>\n",
       "      <td>118</td>\n",
       "      <td>68be06ca386d4c31939f3a4f0e3dd783</td>\n",
       "      <td>20170212</td>\n",
       "      <td>NaN</td>\n",
       "    </tr>\n",
       "    <tr>\n",
       "      <th>1</th>\n",
       "      <td>F</td>\n",
       "      <td>55</td>\n",
       "      <td>0610b486422d4921ae7d2bf64640c50b</td>\n",
       "      <td>20170715</td>\n",
       "      <td>112000.0</td>\n",
       "    </tr>\n",
       "    <tr>\n",
       "      <th>2</th>\n",
       "      <td>None</td>\n",
       "      <td>118</td>\n",
       "      <td>38fe809add3b4fcf9315a9694bb96ff5</td>\n",
       "      <td>20180712</td>\n",
       "      <td>NaN</td>\n",
       "    </tr>\n",
       "    <tr>\n",
       "      <th>3</th>\n",
       "      <td>F</td>\n",
       "      <td>75</td>\n",
       "      <td>78afa995795e4d85b5d9ceeca43f5fef</td>\n",
       "      <td>20170509</td>\n",
       "      <td>100000.0</td>\n",
       "    </tr>\n",
       "    <tr>\n",
       "      <th>4</th>\n",
       "      <td>None</td>\n",
       "      <td>118</td>\n",
       "      <td>a03223e636434f42ac4c3df47e8bac43</td>\n",
       "      <td>20170804</td>\n",
       "      <td>NaN</td>\n",
       "    </tr>\n",
       "  </tbody>\n",
       "</table>\n",
       "</div>"
      ],
      "text/plain": [
       "  gender  age                                id  became_member_on    income\n",
       "0   None  118  68be06ca386d4c31939f3a4f0e3dd783          20170212       NaN\n",
       "1      F   55  0610b486422d4921ae7d2bf64640c50b          20170715  112000.0\n",
       "2   None  118  38fe809add3b4fcf9315a9694bb96ff5          20180712       NaN\n",
       "3      F   75  78afa995795e4d85b5d9ceeca43f5fef          20170509  100000.0\n",
       "4   None  118  a03223e636434f42ac4c3df47e8bac43          20170804       NaN"
      ]
     },
     "execution_count": 293,
     "metadata": {},
     "output_type": "execute_result"
    }
   ],
   "source": [
    "profile.head()"
   ]
  },
  {
   "cell_type": "markdown",
   "metadata": {},
   "source": [
    "A first step will be convert the int in became_member_on to a proper date and replace the 118 in age with NaN."
   ]
  },
  {
   "cell_type": "code",
   "execution_count": 294,
   "metadata": {},
   "outputs": [],
   "source": [
    "# Replace 118 with NaN in the age column.\n",
    "profile['age'] = profile['age'].replace(118, np.nan)\n",
    "\n",
    "# for clarity replace F with Female, M with Male and O with Other in gende column\n",
    "profile['gender'] = profile['gender'].replace({'F': 'Female', 'M': 'Male', 'O': 'Other'})\n",
    "\n",
    "# Transform became_member_on to a date\n",
    "profile['became_member_on'] = pd.to_datetime(profile['became_member_on'], format='%Y%m%d')"
   ]
  },
  {
   "cell_type": "code",
   "execution_count": 295,
   "metadata": {},
   "outputs": [
    {
     "data": {
      "text/html": [
       "<div>\n",
       "<style scoped>\n",
       "    .dataframe tbody tr th:only-of-type {\n",
       "        vertical-align: middle;\n",
       "    }\n",
       "\n",
       "    .dataframe tbody tr th {\n",
       "        vertical-align: top;\n",
       "    }\n",
       "\n",
       "    .dataframe thead th {\n",
       "        text-align: right;\n",
       "    }\n",
       "</style>\n",
       "<table border=\"1\" class=\"dataframe\">\n",
       "  <thead>\n",
       "    <tr style=\"text-align: right;\">\n",
       "      <th></th>\n",
       "      <th>age</th>\n",
       "      <th>became_member_on</th>\n",
       "      <th>income</th>\n",
       "    </tr>\n",
       "  </thead>\n",
       "  <tbody>\n",
       "    <tr>\n",
       "      <th>count</th>\n",
       "      <td>14825.000000</td>\n",
       "      <td>17000</td>\n",
       "      <td>14825.000000</td>\n",
       "    </tr>\n",
       "    <tr>\n",
       "      <th>mean</th>\n",
       "      <td>54.393524</td>\n",
       "      <td>2017-02-23 13:12:10.164706048</td>\n",
       "      <td>65404.991568</td>\n",
       "    </tr>\n",
       "    <tr>\n",
       "      <th>min</th>\n",
       "      <td>18.000000</td>\n",
       "      <td>2013-07-29 00:00:00</td>\n",
       "      <td>30000.000000</td>\n",
       "    </tr>\n",
       "    <tr>\n",
       "      <th>25%</th>\n",
       "      <td>42.000000</td>\n",
       "      <td>2016-05-26 00:00:00</td>\n",
       "      <td>49000.000000</td>\n",
       "    </tr>\n",
       "    <tr>\n",
       "      <th>50%</th>\n",
       "      <td>55.000000</td>\n",
       "      <td>2017-08-02 00:00:00</td>\n",
       "      <td>64000.000000</td>\n",
       "    </tr>\n",
       "    <tr>\n",
       "      <th>75%</th>\n",
       "      <td>66.000000</td>\n",
       "      <td>2017-12-30 00:00:00</td>\n",
       "      <td>80000.000000</td>\n",
       "    </tr>\n",
       "    <tr>\n",
       "      <th>max</th>\n",
       "      <td>101.000000</td>\n",
       "      <td>2018-07-26 00:00:00</td>\n",
       "      <td>120000.000000</td>\n",
       "    </tr>\n",
       "    <tr>\n",
       "      <th>std</th>\n",
       "      <td>17.383705</td>\n",
       "      <td>NaN</td>\n",
       "      <td>21598.299410</td>\n",
       "    </tr>\n",
       "  </tbody>\n",
       "</table>\n",
       "</div>"
      ],
      "text/plain": [
       "                age               became_member_on         income\n",
       "count  14825.000000                          17000   14825.000000\n",
       "mean      54.393524  2017-02-23 13:12:10.164706048   65404.991568\n",
       "min       18.000000            2013-07-29 00:00:00   30000.000000\n",
       "25%       42.000000            2016-05-26 00:00:00   49000.000000\n",
       "50%       55.000000            2017-08-02 00:00:00   64000.000000\n",
       "75%       66.000000            2017-12-30 00:00:00   80000.000000\n",
       "max      101.000000            2018-07-26 00:00:00  120000.000000\n",
       "std       17.383705                            NaN   21598.299410"
      ]
     },
     "metadata": {},
     "output_type": "display_data"
    }
   ],
   "source": [
    "display(profile.describe())"
   ]
  },
  {
   "cell_type": "code",
   "execution_count": 296,
   "metadata": {},
   "outputs": [
    {
     "name": "stdout",
     "output_type": "stream",
     "text": [
      "Percentaje of missing values per column:\n",
      "gender              0.127941\n",
      "age                 0.127941\n",
      "income              0.127941\n",
      "id                  0.000000\n",
      "became_member_on    0.000000\n",
      "dtype: float64\n"
     ]
    }
   ],
   "source": [
    "# Check columns with Nan values\n",
    "nans_columns = profile.isnull().mean()\n",
    "print('Percentaje of missing values per column:\\n{}'.format(nans_columns.sort_values(ascending=False)))"
   ]
  },
  {
   "cell_type": "markdown",
   "metadata": {},
   "source": [
    "There is a 12.8% of persons without data in their profiles. For dealing with these missing values, instead of droping them, all these persons will form one of the demographic groups. As it could be interesting to study if the people who fill in their information interact in a different way with the offers."
   ]
  },
  {
   "cell_type": "markdown",
   "metadata": {},
   "source": [
    "### Transcript Dataframe"
   ]
  },
  {
   "cell_type": "markdown",
   "metadata": {},
   "source": [
    "In this dataframe:\n",
    "* person: (str/hash)\n",
    "* event: (str) \n",
    "  * offer received\n",
    "  * offer viewed\n",
    "  * transaction\n",
    "  * offer completed\n",
    "* value: (dictionary) different values depending on event type\n",
    "  * offer id: (str/hash) not associated with any \"transaction\"\n",
    "  * amount: (int) money spent in \"transaction\"\n",
    "  * reward: (int) money gained from \"offer completed\"\n",
    "* time: (numeric) hours after start of test. The data begins at time t=0."
   ]
  },
  {
   "cell_type": "code",
   "execution_count": 297,
   "metadata": {},
   "outputs": [
    {
     "name": "stdout",
     "output_type": "stream",
     "text": [
      "The transcript dataframe has:\n",
      "306534 rows\n",
      "4 columns\n"
     ]
    }
   ],
   "source": [
    "print('The transcript dataframe has:\\n{} rows\\n{} columns'.format(transcript.shape[0], transcript.shape[1]))"
   ]
  },
  {
   "cell_type": "code",
   "execution_count": 298,
   "metadata": {},
   "outputs": [
    {
     "data": {
      "text/html": [
       "<div>\n",
       "<style scoped>\n",
       "    .dataframe tbody tr th:only-of-type {\n",
       "        vertical-align: middle;\n",
       "    }\n",
       "\n",
       "    .dataframe tbody tr th {\n",
       "        vertical-align: top;\n",
       "    }\n",
       "\n",
       "    .dataframe thead th {\n",
       "        text-align: right;\n",
       "    }\n",
       "</style>\n",
       "<table border=\"1\" class=\"dataframe\">\n",
       "  <thead>\n",
       "    <tr style=\"text-align: right;\">\n",
       "      <th></th>\n",
       "      <th>person</th>\n",
       "      <th>event</th>\n",
       "      <th>value</th>\n",
       "      <th>time</th>\n",
       "    </tr>\n",
       "  </thead>\n",
       "  <tbody>\n",
       "    <tr>\n",
       "      <th>0</th>\n",
       "      <td>78afa995795e4d85b5d9ceeca43f5fef</td>\n",
       "      <td>offer received</td>\n",
       "      <td>{'offer id': '9b98b8c7a33c4b65b9aebfe6a799e6d9'}</td>\n",
       "      <td>0</td>\n",
       "    </tr>\n",
       "    <tr>\n",
       "      <th>1</th>\n",
       "      <td>a03223e636434f42ac4c3df47e8bac43</td>\n",
       "      <td>offer received</td>\n",
       "      <td>{'offer id': '0b1e1539f2cc45b7b9fa7c272da2e1d7'}</td>\n",
       "      <td>0</td>\n",
       "    </tr>\n",
       "    <tr>\n",
       "      <th>2</th>\n",
       "      <td>e2127556f4f64592b11af22de27a7932</td>\n",
       "      <td>offer received</td>\n",
       "      <td>{'offer id': '2906b810c7d4411798c6938adc9daaa5'}</td>\n",
       "      <td>0</td>\n",
       "    </tr>\n",
       "    <tr>\n",
       "      <th>3</th>\n",
       "      <td>8ec6ce2a7e7949b1bf142def7d0e0586</td>\n",
       "      <td>offer received</td>\n",
       "      <td>{'offer id': 'fafdcd668e3743c1bb461111dcafc2a4'}</td>\n",
       "      <td>0</td>\n",
       "    </tr>\n",
       "    <tr>\n",
       "      <th>4</th>\n",
       "      <td>68617ca6246f4fbc85e91a2a49552598</td>\n",
       "      <td>offer received</td>\n",
       "      <td>{'offer id': '4d5c57ea9a6940dd891ad53e9dbe8da0'}</td>\n",
       "      <td>0</td>\n",
       "    </tr>\n",
       "  </tbody>\n",
       "</table>\n",
       "</div>"
      ],
      "text/plain": [
       "                             person           event  \\\n",
       "0  78afa995795e4d85b5d9ceeca43f5fef  offer received   \n",
       "1  a03223e636434f42ac4c3df47e8bac43  offer received   \n",
       "2  e2127556f4f64592b11af22de27a7932  offer received   \n",
       "3  8ec6ce2a7e7949b1bf142def7d0e0586  offer received   \n",
       "4  68617ca6246f4fbc85e91a2a49552598  offer received   \n",
       "\n",
       "                                              value  time  \n",
       "0  {'offer id': '9b98b8c7a33c4b65b9aebfe6a799e6d9'}     0  \n",
       "1  {'offer id': '0b1e1539f2cc45b7b9fa7c272da2e1d7'}     0  \n",
       "2  {'offer id': '2906b810c7d4411798c6938adc9daaa5'}     0  \n",
       "3  {'offer id': 'fafdcd668e3743c1bb461111dcafc2a4'}     0  \n",
       "4  {'offer id': '4d5c57ea9a6940dd891ad53e9dbe8da0'}     0  "
      ]
     },
     "execution_count": 298,
     "metadata": {},
     "output_type": "execute_result"
    }
   ],
   "source": [
    "transcript.head()"
   ]
  },
  {
   "cell_type": "markdown",
   "metadata": {},
   "source": [
    "# Demographic Groups"
   ]
  },
  {
   "cell_type": "markdown",
   "metadata": {},
   "source": [
    "In this section the data from the profile dataframe will be used to stablish a set of demographic groups based on gender, income and gender."
   ]
  },
  {
   "cell_type": "code",
   "execution_count": 299,
   "metadata": {},
   "outputs": [],
   "source": [
    "# New dataframe without the NaN values\n",
    "\n",
    "profile_full = profile.dropna()"
   ]
  },
  {
   "cell_type": "markdown",
   "metadata": {},
   "source": [
    "## Single Variable Analysis"
   ]
  },
  {
   "cell_type": "code",
   "execution_count": 300,
   "metadata": {},
   "outputs": [
    {
     "data": {
      "image/png": "[encoded data removed]",
      "text/plain": [
       "<Figure size 640x480 with 1 Axes>"
      ]
     },
     "metadata": {},
     "output_type": "display_data"
    }
   ],
   "source": [
    "# Age\n",
    "sns.histplot(profile_full[\"age\"], bins=20, kde=True, color=\"blue\")\n",
    "plt.title(\"Age Distribution\")\n",
    "plt.xlabel(\"Age\")\n",
    "plt.ylabel(\"Frecuency\")\n",
    "plt.show()"
   ]
  },
  {
   "cell_type": "code",
   "execution_count": 301,
   "metadata": {},
   "outputs": [
    {
     "data": {
      "image/png": "[encoded data removed]",
      "text/plain": [
       "<Figure size 640x480 with 1 Axes>"
      ]
     },
     "metadata": {},
     "output_type": "display_data"
    }
   ],
   "source": [
    "# Income\n",
    "sns.histplot(profile_full[\"income\"], bins=5, kde=True, color=\"green\")\n",
    "plt.title(\"Income Distribution\")\n",
    "plt.xlabel(\"Income\")\n",
    "plt.ylabel(\"Frecuency\")\n",
    "plt.show()"
   ]
  },
  {
   "cell_type": "code",
   "execution_count": 302,
   "metadata": {},
   "outputs": [
    {
     "data": {
      "image/png": "[encoded data removed]",
      "text/plain": [
       "<Figure size 640x480 with 1 Axes>"
      ]
     },
     "metadata": {},
     "output_type": "display_data"
    }
   ],
   "source": [
    "# Gender\n",
    "profile_full[\"gender\"].value_counts().plot(kind=\"pie\", autopct=\"%1.1f%%\")\n",
    "plt.title(\"Gender Distribution\")\n",
    "plt.ylabel(\"\")\n",
    "plt.show()"
   ]
  },
  {
   "cell_type": "code",
   "execution_count": 303,
   "metadata": {},
   "outputs": [
    {
     "data": {
      "image/png": "[encoded data removed]",
      "text/plain": [
       "<Figure size 640x480 with 1 Axes>"
      ]
     },
     "metadata": {},
     "output_type": "display_data"
    }
   ],
   "source": [
    "# Membership\n",
    "profile_full[\"became_member_on\"].dt.year.value_counts().sort_index().plot(kind=\"line\", marker=\"o\")\n",
    "plt.title(\"Membership Over Time\")\n",
    "plt.xlabel(\"Year\")\n",
    "plt.ylabel(\"Members\")\n",
    "plt.show()"
   ]
  },
  {
   "cell_type": "markdown",
   "metadata": {},
   "source": [
    "## Demographic Groups Definition"
   ]
  },
  {
   "cell_type": "markdown",
   "metadata": {},
   "source": [
    "The data will be split in the following demographic groups:\n",
    "* Age: \n",
    "  * Young adults if age < 25\n",
    "  * Adults if 25 <= age < 65\n",
    "  * Seniors if age >= 65\n",
    "* Income\n",
    "  * Low if income < 45000\n",
    "  * Middle if 45000 <= income < 80000\n",
    "  * High if income >= \n",
    "\n",
    "This will turn into a new DataFrame with user ids, age group, income group and gender. For the users that did't input their data the NaN values will be replaced with \"Unknown\"."
   ]
  },
  {
   "cell_type": "code",
   "execution_count": 304,
   "metadata": {},
   "outputs": [
    {
     "name": "stdout",
     "output_type": "stream",
     "text": [
      "gender   age_group    income_group \n",
      "Female   Middle-Age   High Income      1252\n",
      "                      Low Income        525\n",
      "                      Middle Income    2048\n",
      "         Senior       High Income       910\n",
      "                      Low Income        222\n",
      "                      Middle Income     934\n",
      "         Young Adult  Low Income         85\n",
      "                      Middle Income     153\n",
      "Male     Middle-Age   High Income       946\n",
      "                      Low Income       1354\n",
      "                      Middle Income    3412\n",
      "         Senior       High Income       556\n",
      "                      Low Income        382\n",
      "                      Middle Income    1205\n",
      "         Young Adult  Low Income        261\n",
      "                      Middle Income     368\n",
      "Other    Middle-Age   High Income        42\n",
      "                      Low Income         28\n",
      "                      Middle Income      76\n",
      "         Senior       High Income        11\n",
      "                      Low Income         10\n",
      "                      Middle Income      36\n",
      "         Young Adult  Low Income          2\n",
      "                      Middle Income       7\n",
      "Unknown  Unknown      Unknown          2175\n",
      "dtype: int64\n"
     ]
    }
   ],
   "source": [
    "def categorize_age(age):\n",
    "    '''\n",
    "    Clasifies age in three categories.\n",
    "    INPUT:\n",
    "    age - int representing the age of a person\n",
    "\n",
    "    OUTPUT:\n",
    "    age_group - str representing the demographic group\n",
    "    '''\n",
    "    age_group = \"\"\n",
    "\n",
    "    if age < 25:\n",
    "        age_group = \"Young Adult\"\n",
    "    elif 25 <= age < 65:\n",
    "        age_group = \"Middle-Age\"\n",
    "    else:\n",
    "        age_group = \"Senior\"\n",
    "\n",
    "    return age_group\n",
    "\n",
    "def categorize_income(income):\n",
    "    '''\n",
    "    Clasifies income in three categories.\n",
    "    INPUT:\n",
    "    income - int representing the annual income of a person\n",
    "\n",
    "    OUTPUT:\n",
    "    income_group - str represeting the demographic group\n",
    "    '''\n",
    "    income_group = \"\"\n",
    "    if income < 45000:\n",
    "        income_group = \"Low Income\"\n",
    "    elif 45000 <= income < 80000:\n",
    "        income_group = \"Middle Income\"\n",
    "    else:\n",
    "        income_group = \"High Income\"\n",
    "\n",
    "    return income_group\n",
    "\n",
    "profile_clean = profile.fillna({'gender': 'Unknown', 'age': 'Unknown', 'income': 'Unknown'})\n",
    "\n",
    "profile_clean.loc[:, \"age_group\"] = profile_clean[\"age\"].apply(lambda x: categorize_age(x) if isinstance(x, (int, float)) else 'Unknown')\n",
    "profile_clean.loc[:, \"income_group\"] = profile_clean[\"income\"].apply(lambda x: categorize_income(x) if isinstance(x, (int, float)) else 'Unknown')\n",
    "\n",
    "profile_groups = profile_clean[['id', 'gender', 'age_group', 'income_group']]\n",
    "\n",
    "# Count of each group\n",
    "print(profile_groups.groupby([\"gender\", \"age_group\", \"income_group\"]).size())"
   ]
  },
  {
   "cell_type": "markdown",
   "metadata": {},
   "source": [
    "## Offer Funnel\n",
    "\n",
    "The expected offer funnel for discount and bogo offers would be as follows:\n",
    "1. Offer received\n",
    "2. Offer viewed\n",
    "3. Transaction\n",
    "4. Offer completed\n",
    "\n",
    "For informational offers, there is no completion stage.\n",
    "\n",
    "There will be cases where a offer is recived but never viewed:\n",
    "1. Offer received\n",
    "2. Transaction\n",
    "3. Offer completed\n",
    "\n",
    "Additionally, some discount and BOGO offers may never be completed:\n",
    "1. Offer received\n",
    "2. Offer viewed\n",
    "3. Transaction\n",
    "\n",
    "Some offers may be opened but not lead to any transactions::\n",
    "1. Offer received\n",
    "2. Offer viewed\n",
    "3. Transaction\n",
    "\n",
    "Last, there could be transactions that aren't linked to any offer:\n",
    "1. Transaction\n",
    "\n",
    "For the purpose of this analysis offers will be classified as follows:\n",
    "* Type I offers: Offers that follow the funnel to completion\n",
    "* Type II offers: Offers that are received, viewed and led to a transaction, but never completed\n",
    "* Type III offers: Offers that are received and viewed but have no associated transactions.\n",
    "* Type IV offers: Offers that are received but never opened"
   ]
  },
  {
   "cell_type": "code",
   "execution_count": 305,
   "metadata": {},
   "outputs": [],
   "source": [
    "# expland the dictionary in columns\n",
    "transcript_expand = transcript['value'].apply(pd.Series)\n",
    "\n",
    "# add the remaining columns from transcript\n",
    "transcript_expand = pd.concat([transcript[['person']], transcript[['event']], transcript_expand, transcript[['time']]], axis = 1)\n",
    "\n",
    "# offer id and offer_id columns after expanding need to be merged in one\n",
    "transcript_expand['offer_id'] = transcript_expand[['offer id', 'offer_id']].bfill(axis=1).iloc[:,0]\n",
    "\n",
    "# drop offer_id and rename offer id\n",
    "transcript_expand = transcript_expand.drop(columns=['offer_id'])\n",
    "transcript_expand = transcript_expand.rename(columns={'offer id' : 'offer_id'})\n",
    "\n",
    "# for the purpose of this analysis, it's irrelevant if an offer is completed\n",
    "# drop all offer completed rows\n",
    "transcript_expand = transcript_expand.drop(transcript_expand[transcript_expand['event'] == 'offer completed'].index)\n",
    "# drop reward column (is only NaN now)\n",
    "transcript_expand = transcript_expand.drop('reward', axis=1)"
   ]
  },
  {
   "cell_type": "code",
   "execution_count": 306,
   "metadata": {},
   "outputs": [
    {
     "data": {
      "text/html": [
       "<div>\n",
       "<style scoped>\n",
       "    .dataframe tbody tr th:only-of-type {\n",
       "        vertical-align: middle;\n",
       "    }\n",
       "\n",
       "    .dataframe tbody tr th {\n",
       "        vertical-align: top;\n",
       "    }\n",
       "\n",
       "    .dataframe thead th {\n",
       "        text-align: right;\n",
       "    }\n",
       "</style>\n",
       "<table border=\"1\" class=\"dataframe\">\n",
       "  <thead>\n",
       "    <tr style=\"text-align: right;\">\n",
       "      <th></th>\n",
       "      <th>person</th>\n",
       "      <th>event</th>\n",
       "      <th>offer_id</th>\n",
       "      <th>amount</th>\n",
       "      <th>time</th>\n",
       "    </tr>\n",
       "  </thead>\n",
       "  <tbody>\n",
       "    <tr>\n",
       "      <th>0</th>\n",
       "      <td>78afa995795e4d85b5d9ceeca43f5fef</td>\n",
       "      <td>offer received</td>\n",
       "      <td>9b98b8c7a33c4b65b9aebfe6a799e6d9</td>\n",
       "      <td>NaN</td>\n",
       "      <td>0</td>\n",
       "    </tr>\n",
       "    <tr>\n",
       "      <th>1</th>\n",
       "      <td>a03223e636434f42ac4c3df47e8bac43</td>\n",
       "      <td>offer received</td>\n",
       "      <td>0b1e1539f2cc45b7b9fa7c272da2e1d7</td>\n",
       "      <td>NaN</td>\n",
       "      <td>0</td>\n",
       "    </tr>\n",
       "    <tr>\n",
       "      <th>2</th>\n",
       "      <td>e2127556f4f64592b11af22de27a7932</td>\n",
       "      <td>offer received</td>\n",
       "      <td>2906b810c7d4411798c6938adc9daaa5</td>\n",
       "      <td>NaN</td>\n",
       "      <td>0</td>\n",
       "    </tr>\n",
       "    <tr>\n",
       "      <th>3</th>\n",
       "      <td>8ec6ce2a7e7949b1bf142def7d0e0586</td>\n",
       "      <td>offer received</td>\n",
       "      <td>fafdcd668e3743c1bb461111dcafc2a4</td>\n",
       "      <td>NaN</td>\n",
       "      <td>0</td>\n",
       "    </tr>\n",
       "    <tr>\n",
       "      <th>4</th>\n",
       "      <td>68617ca6246f4fbc85e91a2a49552598</td>\n",
       "      <td>offer received</td>\n",
       "      <td>4d5c57ea9a6940dd891ad53e9dbe8da0</td>\n",
       "      <td>NaN</td>\n",
       "      <td>0</td>\n",
       "    </tr>\n",
       "  </tbody>\n",
       "</table>\n",
       "</div>"
      ],
      "text/plain": [
       "                             person           event  \\\n",
       "0  78afa995795e4d85b5d9ceeca43f5fef  offer received   \n",
       "1  a03223e636434f42ac4c3df47e8bac43  offer received   \n",
       "2  e2127556f4f64592b11af22de27a7932  offer received   \n",
       "3  8ec6ce2a7e7949b1bf142def7d0e0586  offer received   \n",
       "4  68617ca6246f4fbc85e91a2a49552598  offer received   \n",
       "\n",
       "                           offer_id  amount  time  \n",
       "0  9b98b8c7a33c4b65b9aebfe6a799e6d9     NaN     0  \n",
       "1  0b1e1539f2cc45b7b9fa7c272da2e1d7     NaN     0  \n",
       "2  2906b810c7d4411798c6938adc9daaa5     NaN     0  \n",
       "3  fafdcd668e3743c1bb461111dcafc2a4     NaN     0  \n",
       "4  4d5c57ea9a6940dd891ad53e9dbe8da0     NaN     0  "
      ]
     },
     "execution_count": 306,
     "metadata": {},
     "output_type": "execute_result"
    }
   ],
   "source": [
    "transcript_expand.head()"
   ]
  },
  {
   "cell_type": "code",
   "execution_count": 307,
   "metadata": {},
   "outputs": [],
   "source": [
    "# merge the details of the offers from the portfolio dataframe\n",
    "transcript_log = transcript_expand.merge(portfolio_details[['id', 'details']], left_on='offer_id', right_on='id', how='left')\n",
    "transcript_log = transcript_log.drop(columns=['id'])"
   ]
  },
  {
   "cell_type": "code",
   "execution_count": 308,
   "metadata": {},
   "outputs": [],
   "source": [
    "# sort log by person and time\n",
    "log = transcript_log.sort_values(by=['person','time'], ascending=True)\n",
    "\n",
    "# Add expiry time to offers received\n",
    "log['details'] = log.apply(lambda row: {**row['details'], 'expiry': row['time'] + row['details']['duration']} \n",
    "                           if isinstance(row['details'], dict) and row['event'] == 'offer received' \n",
    "                           else row['details'], axis=1)\n"
   ]
  },
  {
   "cell_type": "code",
   "execution_count": 309,
   "metadata": {},
   "outputs": [
    {
     "data": {
      "text/html": [
       "<div>\n",
       "<style scoped>\n",
       "    .dataframe tbody tr th:only-of-type {\n",
       "        vertical-align: middle;\n",
       "    }\n",
       "\n",
       "    .dataframe tbody tr th {\n",
       "        vertical-align: top;\n",
       "    }\n",
       "\n",
       "    .dataframe thead th {\n",
       "        text-align: right;\n",
       "    }\n",
       "</style>\n",
       "<table border=\"1\" class=\"dataframe\">\n",
       "  <thead>\n",
       "    <tr style=\"text-align: right;\">\n",
       "      <th></th>\n",
       "      <th>person</th>\n",
       "      <th>event</th>\n",
       "      <th>offer_id</th>\n",
       "      <th>amount</th>\n",
       "      <th>time</th>\n",
       "      <th>details</th>\n",
       "    </tr>\n",
       "  </thead>\n",
       "  <tbody>\n",
       "    <tr>\n",
       "      <th>51314</th>\n",
       "      <td>0009655768c64bdeb2e877511632db8f</td>\n",
       "      <td>offer received</td>\n",
       "      <td>5a8bc65990b245e5a138643cd4eb9837</td>\n",
       "      <td>NaN</td>\n",
       "      <td>168</td>\n",
       "      <td>{'offer_type': 'informational', 'reward': 0, '...</td>\n",
       "    </tr>\n",
       "    <tr>\n",
       "      <th>71545</th>\n",
       "      <td>0009655768c64bdeb2e877511632db8f</td>\n",
       "      <td>offer viewed</td>\n",
       "      <td>5a8bc65990b245e5a138643cd4eb9837</td>\n",
       "      <td>NaN</td>\n",
       "      <td>192</td>\n",
       "      <td>{'offer_type': 'informational', 'reward': 0, '...</td>\n",
       "    </tr>\n",
       "    <tr>\n",
       "      <th>81334</th>\n",
       "      <td>0009655768c64bdeb2e877511632db8f</td>\n",
       "      <td>transaction</td>\n",
       "      <td>NaN</td>\n",
       "      <td>22.16</td>\n",
       "      <td>228</td>\n",
       "      <td>NaN</td>\n",
       "    </tr>\n",
       "    <tr>\n",
       "      <th>103438</th>\n",
       "      <td>0009655768c64bdeb2e877511632db8f</td>\n",
       "      <td>offer received</td>\n",
       "      <td>3f207df678b143eea3cee63160fa8bed</td>\n",
       "      <td>NaN</td>\n",
       "      <td>336</td>\n",
       "      <td>{'offer_type': 'informational', 'reward': 0, '...</td>\n",
       "    </tr>\n",
       "    <tr>\n",
       "      <th>127578</th>\n",
       "      <td>0009655768c64bdeb2e877511632db8f</td>\n",
       "      <td>offer viewed</td>\n",
       "      <td>3f207df678b143eea3cee63160fa8bed</td>\n",
       "      <td>NaN</td>\n",
       "      <td>372</td>\n",
       "      <td>{'offer_type': 'informational', 'reward': 0, '...</td>\n",
       "    </tr>\n",
       "  </tbody>\n",
       "</table>\n",
       "</div>"
      ],
      "text/plain": [
       "                                  person           event  \\\n",
       "51314   0009655768c64bdeb2e877511632db8f  offer received   \n",
       "71545   0009655768c64bdeb2e877511632db8f    offer viewed   \n",
       "81334   0009655768c64bdeb2e877511632db8f     transaction   \n",
       "103438  0009655768c64bdeb2e877511632db8f  offer received   \n",
       "127578  0009655768c64bdeb2e877511632db8f    offer viewed   \n",
       "\n",
       "                                offer_id  amount  time  \\\n",
       "51314   5a8bc65990b245e5a138643cd4eb9837     NaN   168   \n",
       "71545   5a8bc65990b245e5a138643cd4eb9837     NaN   192   \n",
       "81334                                NaN   22.16   228   \n",
       "103438  3f207df678b143eea3cee63160fa8bed     NaN   336   \n",
       "127578  3f207df678b143eea3cee63160fa8bed     NaN   372   \n",
       "\n",
       "                                                  details  \n",
       "51314   {'offer_type': 'informational', 'reward': 0, '...  \n",
       "71545   {'offer_type': 'informational', 'reward': 0, '...  \n",
       "81334                                                 NaN  \n",
       "103438  {'offer_type': 'informational', 'reward': 0, '...  \n",
       "127578  {'offer_type': 'informational', 'reward': 0, '...  "
      ]
     },
     "execution_count": 309,
     "metadata": {},
     "output_type": "execute_result"
    }
   ],
   "source": [
    "log.head()"
   ]
  },
  {
   "cell_type": "code",
   "execution_count": 310,
   "metadata": {},
   "outputs": [],
   "source": [
    "# Add two new columns with the list of live offers and active offers\n",
    "# an offer is live when its received\n",
    "# an offer is active when its viewed\n",
    "\n",
    "def filter_expired_offers(offers_list, time):\n",
    "    '''\n",
    "    Filters a list of dictionaries\n",
    "    INPUT:\n",
    "    offers_list - list of dictionaries with the elements to filter\n",
    "    time - fitering variable\n",
    "\n",
    "    OUTPUT:\n",
    "    live_offer_list - list of dictionaries filtered by time\n",
    "    '''\n",
    "    live_offer_list = []\n",
    "    if isinstance(offers_list, list):\n",
    "        live_offer_list = [\n",
    "            (offer_id, t, details) for offer_id, t, details in offers_list\n",
    "            if t <= time < details['expiry']\n",
    "        ]\n",
    "    return live_offer_list\n",
    "\n",
    "def add_active_offer(index, live_offers, offers_viewed):\n",
    "    '''\n",
    "    Filters a list of dictionaries\n",
    "    INPUT:\n",
    "    offers_list - list of dictionaries with the elements to filter\n",
    "    offer_viewed_id - id of the offer to find\n",
    "    view_time - time when the offer was viewed\n",
    "\n",
    "    OUTPUT:\n",
    "    active_offer_list - list of dictionaries filtered\n",
    "    '''\n",
    "    active_offer_list = []\n",
    "    viewed_dict = {offer_id: t for offer_id, t, _ in offers_viewed}\n",
    "\n",
    "    if isinstance(live_offers, list) and isinstance(offers_viewed, list): # check live_offers and offers_viewed aren't NaN\n",
    "        active_offer_list = [\n",
    "            (offer_id, t, details) for offer_id, t, details in live_offers\n",
    "            if offer_id in viewed_dict and viewed_dict[offer_id] > t]\n",
    "\n",
    "    return active_offer_list\n",
    "\n",
    "def new_column_event(df, event):\n",
    "    '''\n",
    "    Adds a new column to df defined by event\n",
    "    INPUT:\n",
    "    df - a transcript log dataframe with events\n",
    "    event - the required event for the new column\n",
    "\n",
    "    OUTPUT:\n",
    "    active_offer_list - list of dictionaries filtered\n",
    "    '''\n",
    "    # Step 1: extract all offers by event\n",
    "    offer_by_event = df[df['event'] == event]\n",
    "\n",
    "    # Step 2: Aggregate by person the offers viewed, extract details, offer id and time when was viewed\n",
    "    offers_by_event_by_person = offer_by_event.groupby('person').apply(\n",
    "        lambda x: [(offer_id, time, details) for offer_id, time, details in zip(x['offer_id'], x['time'], x['details'])],\n",
    "        include_groups=False\n",
    "    ).reset_index(name=event)\n",
    "\n",
    "    # Step 3: Merge the offers list back to the log dataframe (for easy lookup)\n",
    "    df = df.merge(offers_by_event_by_person, on='person', how='left')\n",
    "\n",
    "    # Step 4: Filter the offers and add the final column\n",
    "    if event == 'offer received':\n",
    "        df['live_offers'] = df.apply(lambda row: filter_expired_offers(row[event], row['time']), axis=1)\n",
    "    elif event == 'offer viewed':\n",
    "        if 'live_offers' in df.columns:\n",
    "            df['active_offers'] = df.apply(\n",
    "                lambda row: add_active_offer(row['person'], row['live_offers'], row[event])\n",
    "                if isinstance(row['live_offers'], list) and isinstance(row[event], list)\n",
    "                else [],\n",
    "                axis=1\n",
    "            )\n",
    "    \n",
    "    # Step 5: drop auxiliary column\n",
    "    df.drop(columns=event, inplace=True)\n",
    "\n",
    "    return df"
   ]
  },
  {
   "cell_type": "code",
   "execution_count": 311,
   "metadata": {},
   "outputs": [],
   "source": [
    "log = new_column_event(log, 'offer received')"
   ]
  },
  {
   "cell_type": "code",
   "execution_count": 312,
   "metadata": {},
   "outputs": [],
   "source": [
    "log = new_column_event(log, 'offer viewed')"
   ]
  },
  {
   "cell_type": "code",
   "execution_count": 313,
   "metadata": {},
   "outputs": [
    {
     "data": {
      "text/html": [
       "<div>\n",
       "<style scoped>\n",
       "    .dataframe tbody tr th:only-of-type {\n",
       "        vertical-align: middle;\n",
       "    }\n",
       "\n",
       "    .dataframe tbody tr th {\n",
       "        vertical-align: top;\n",
       "    }\n",
       "\n",
       "    .dataframe thead th {\n",
       "        text-align: right;\n",
       "    }\n",
       "</style>\n",
       "<table border=\"1\" class=\"dataframe\">\n",
       "  <thead>\n",
       "    <tr style=\"text-align: right;\">\n",
       "      <th></th>\n",
       "      <th>person</th>\n",
       "      <th>event</th>\n",
       "      <th>offer_id</th>\n",
       "      <th>amount</th>\n",
       "      <th>time</th>\n",
       "      <th>details</th>\n",
       "      <th>live_offers</th>\n",
       "      <th>active_offers</th>\n",
       "    </tr>\n",
       "  </thead>\n",
       "  <tbody>\n",
       "    <tr>\n",
       "      <th>0</th>\n",
       "      <td>0009655768c64bdeb2e877511632db8f</td>\n",
       "      <td>offer received</td>\n",
       "      <td>5a8bc65990b245e5a138643cd4eb9837</td>\n",
       "      <td>NaN</td>\n",
       "      <td>168</td>\n",
       "      <td>{'offer_type': 'informational', 'reward': 0, '...</td>\n",
       "      <td>[(5a8bc65990b245e5a138643cd4eb9837, 168, {'off...</td>\n",
       "      <td>[(5a8bc65990b245e5a138643cd4eb9837, 168, {'off...</td>\n",
       "    </tr>\n",
       "    <tr>\n",
       "      <th>1</th>\n",
       "      <td>0009655768c64bdeb2e877511632db8f</td>\n",
       "      <td>offer viewed</td>\n",
       "      <td>5a8bc65990b245e5a138643cd4eb9837</td>\n",
       "      <td>NaN</td>\n",
       "      <td>192</td>\n",
       "      <td>{'offer_type': 'informational', 'reward': 0, '...</td>\n",
       "      <td>[(5a8bc65990b245e5a138643cd4eb9837, 168, {'off...</td>\n",
       "      <td>[(5a8bc65990b245e5a138643cd4eb9837, 168, {'off...</td>\n",
       "    </tr>\n",
       "    <tr>\n",
       "      <th>2</th>\n",
       "      <td>0009655768c64bdeb2e877511632db8f</td>\n",
       "      <td>transaction</td>\n",
       "      <td>NaN</td>\n",
       "      <td>22.16</td>\n",
       "      <td>228</td>\n",
       "      <td>NaN</td>\n",
       "      <td>[(5a8bc65990b245e5a138643cd4eb9837, 168, {'off...</td>\n",
       "      <td>[(5a8bc65990b245e5a138643cd4eb9837, 168, {'off...</td>\n",
       "    </tr>\n",
       "    <tr>\n",
       "      <th>3</th>\n",
       "      <td>0009655768c64bdeb2e877511632db8f</td>\n",
       "      <td>offer received</td>\n",
       "      <td>3f207df678b143eea3cee63160fa8bed</td>\n",
       "      <td>NaN</td>\n",
       "      <td>336</td>\n",
       "      <td>{'offer_type': 'informational', 'reward': 0, '...</td>\n",
       "      <td>[(3f207df678b143eea3cee63160fa8bed, 336, {'off...</td>\n",
       "      <td>[(3f207df678b143eea3cee63160fa8bed, 336, {'off...</td>\n",
       "    </tr>\n",
       "    <tr>\n",
       "      <th>4</th>\n",
       "      <td>0009655768c64bdeb2e877511632db8f</td>\n",
       "      <td>offer viewed</td>\n",
       "      <td>3f207df678b143eea3cee63160fa8bed</td>\n",
       "      <td>NaN</td>\n",
       "      <td>372</td>\n",
       "      <td>{'offer_type': 'informational', 'reward': 0, '...</td>\n",
       "      <td>[(3f207df678b143eea3cee63160fa8bed, 336, {'off...</td>\n",
       "      <td>[(3f207df678b143eea3cee63160fa8bed, 336, {'off...</td>\n",
       "    </tr>\n",
       "  </tbody>\n",
       "</table>\n",
       "</div>"
      ],
      "text/plain": [
       "                             person           event  \\\n",
       "0  0009655768c64bdeb2e877511632db8f  offer received   \n",
       "1  0009655768c64bdeb2e877511632db8f    offer viewed   \n",
       "2  0009655768c64bdeb2e877511632db8f     transaction   \n",
       "3  0009655768c64bdeb2e877511632db8f  offer received   \n",
       "4  0009655768c64bdeb2e877511632db8f    offer viewed   \n",
       "\n",
       "                           offer_id  amount  time  \\\n",
       "0  5a8bc65990b245e5a138643cd4eb9837     NaN   168   \n",
       "1  5a8bc65990b245e5a138643cd4eb9837     NaN   192   \n",
       "2                               NaN   22.16   228   \n",
       "3  3f207df678b143eea3cee63160fa8bed     NaN   336   \n",
       "4  3f207df678b143eea3cee63160fa8bed     NaN   372   \n",
       "\n",
       "                                             details  \\\n",
       "0  {'offer_type': 'informational', 'reward': 0, '...   \n",
       "1  {'offer_type': 'informational', 'reward': 0, '...   \n",
       "2                                                NaN   \n",
       "3  {'offer_type': 'informational', 'reward': 0, '...   \n",
       "4  {'offer_type': 'informational', 'reward': 0, '...   \n",
       "\n",
       "                                         live_offers  \\\n",
       "0  [(5a8bc65990b245e5a138643cd4eb9837, 168, {'off...   \n",
       "1  [(5a8bc65990b245e5a138643cd4eb9837, 168, {'off...   \n",
       "2  [(5a8bc65990b245e5a138643cd4eb9837, 168, {'off...   \n",
       "3  [(3f207df678b143eea3cee63160fa8bed, 336, {'off...   \n",
       "4  [(3f207df678b143eea3cee63160fa8bed, 336, {'off...   \n",
       "\n",
       "                                       active_offers  \n",
       "0  [(5a8bc65990b245e5a138643cd4eb9837, 168, {'off...  \n",
       "1  [(5a8bc65990b245e5a138643cd4eb9837, 168, {'off...  \n",
       "2  [(5a8bc65990b245e5a138643cd4eb9837, 168, {'off...  \n",
       "3  [(3f207df678b143eea3cee63160fa8bed, 336, {'off...  \n",
       "4  [(3f207df678b143eea3cee63160fa8bed, 336, {'off...  "
      ]
     },
     "execution_count": 313,
     "metadata": {},
     "output_type": "execute_result"
    }
   ],
   "source": [
    "log.head()"
   ]
  },
  {
   "cell_type": "code",
   "execution_count": 317,
   "metadata": {},
   "outputs": [],
   "source": [
    "\n",
    "# Step 7: clean 'live_offers' to keep only the offer name\n",
    "# transcript_log['live_offers'] = transcript_log['live_offers'].apply(lambda x: [offer[0] for offer in x] if isinstance(x, list) else [])\n"
   ]
  }
 ],
 "metadata": {
  "kernelspec": {
   "display_name": "Python 3",
   "language": "python",
   "name": "python3"
  },
  "language_info": {
   "codemirror_mode": {
    "name": "ipython",
    "version": 3
   },
   "file_extension": ".py",
   "mimetype": "text/x-python",
   "name": "python",
   "nbconvert_exporter": "python",
   "pygments_lexer": "ipython3",
   "version": "3.13.2"
  }
 },
 "nbformat": 4,
 "nbformat_minor": 2
}
